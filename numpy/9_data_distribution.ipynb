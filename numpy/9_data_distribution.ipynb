{
 "cells": [
  {
   "cell_type": "markdown",
   "metadata": {},
   "source": [
    "# Data Distribution\n",
    "\n",
    "data distribution is a list of all possible value and how often each value occurs.\n",
    "\n",
    "such lists are important when working with statictics and data science."
   ]
  },
  {
   "cell_type": "markdown",
   "metadata": {},
   "source": [
    "`Random Distribution`: probability function."
   ]
  },
  {
   "cell_type": "code",
   "execution_count": 1,
   "metadata": {},
   "outputs": [],
   "source": [
    "from numpy import random"
   ]
  },
  {
   "cell_type": "markdown",
   "metadata": {},
   "source": [
    "Now we will generate 1D with 100 values where each value has to be 3, 5, 7, 9.\n",
    "\n",
    "The probability for the value\n",
    "3 is set to be 0.1,\n",
    "5 is set to be 0.3,\n",
    "7 is set to be 0.6,\n",
    "9 is set to be 0.\n",
    "\n",
    "`The sum of probability numbers should be 1.`"
   ]
  },
  {
   "cell_type": "code",
   "execution_count": 2,
   "metadata": {},
   "outputs": [
    {
     "data": {
      "text/plain": [
       "array([7, 7, 5, 7, 7, 5, 5, 7, 7, 7, 5, 7, 7, 5, 5, 5, 7, 7, 7, 7, 7, 5,\n",
       "       3, 5, 7, 5, 7, 7, 3, 5, 7, 5, 7, 7, 5, 5, 5, 7, 7, 5, 5, 7, 5, 7,\n",
       "       5, 7, 7, 5, 7, 7, 7, 3, 7, 5, 7, 5, 7, 7, 5, 5, 3, 7, 7, 7, 7, 7,\n",
       "       7, 7, 7, 5, 5, 7, 7, 7, 3, 7, 7, 5, 7, 7, 5, 7, 5, 5, 7, 7, 7, 7,\n",
       "       7, 7, 5, 7, 7, 7, 5, 7, 7, 7, 7, 7])"
      ]
     },
     "execution_count": 2,
     "metadata": {},
     "output_type": "execute_result"
    }
   ],
   "source": [
    "x = random.choice([3, 5, 7, 9], p=[0.1, 0.3, 0.6, 0], size=(100))\n",
    "x"
   ]
  },
  {
   "cell_type": "markdown",
   "metadata": {},
   "source": [
    "Now we will return 2D with 3 rows each containing 5 values\""
   ]
  },
  {
   "cell_type": "code",
   "execution_count": 4,
   "metadata": {},
   "outputs": [
    {
     "data": {
      "text/plain": [
       "array([[7, 7, 5, 7, 5, 3, 5],\n",
       "       [7, 3, 7, 7, 3, 7, 5],\n",
       "       [5, 7, 7, 7, 3, 3, 3],\n",
       "       [7, 7, 5, 5, 5, 7, 3],\n",
       "       [3, 5, 7, 7, 7, 7, 7]])"
      ]
     },
     "execution_count": 4,
     "metadata": {},
     "output_type": "execute_result"
    }
   ],
   "source": [
    "x = random.choice([3, 5, 7, 9], p=[0.1, 0.3, 0.6, 0], size=(5, 7))\n",
    "x"
   ]
  },
  {
   "cell_type": "code",
   "execution_count": null,
   "metadata": {},
   "outputs": [],
   "source": []
  }
 ],
 "metadata": {
  "kernelspec": {
   "display_name": "Python 3",
   "language": "python",
   "name": "python3"
  },
  "language_info": {
   "codemirror_mode": {
    "name": "ipython",
    "version": 3
   },
   "file_extension": ".py",
   "mimetype": "text/x-python",
   "name": "python",
   "nbconvert_exporter": "python",
   "pygments_lexer": "ipython3",
   "version": "3.12.1"
  }
 },
 "nbformat": 4,
 "nbformat_minor": 2
}
